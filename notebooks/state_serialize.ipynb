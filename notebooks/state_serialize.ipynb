{
 "cells": [
  {
   "cell_type": "code",
   "execution_count": 1,
   "metadata": {},
   "outputs": [
    {
     "name": "stderr",
     "output_type": "stream",
     "text": [
      "1516 [INFO] beets-flask - Logging initialized logger.py:25\n",
      "1790 [DEBUG] beets-flask - Reading beets config from default location beets_config.py:72\n",
      "1803 [DEBUG] beets-flask - Reading IB config defaults from /mnt/Repositories/beets-flask/backend/beets_flask/config/config_bf_default.yaml beets_config.py:81\n",
      "1805 [DEBUG] beets-flask - Reading beets-flask config from /home/sebastian/.config/beets-flask/config.yaml beets_config.py:124\n",
      "1814 [DEBUG] beets-flask - Reading beets config from default location beets_config.py:72\n",
      "1831 [DEBUG] beets-flask - Reading IB config defaults from /mnt/Repositories/beets-flask/backend/beets_flask/config/config_bf_default.yaml beets_config.py:81\n",
      "1832 [DEBUG] beets-flask - Reading beets-flask config from /home/sebastian/.config/beets-flask/config.yaml beets_config.py:124\n"
     ]
    }
   ],
   "source": [
    "import logging\n",
    "import os\n",
    "from pathlib import Path\n",
    "from beets_flask.importer.session import PreviewSessionNew, SessionState\n",
    "from beets_flask.database.models.state import Session\n",
    "\n",
    "# Get initial preview session\n",
    "cwd = os.getcwd()\n",
    "import_path = \"../local/music/inbox/Rush\"\n",
    "path = (Path(cwd) / import_path).resolve()\n",
    "session = PreviewSessionNew(SessionState(path))"
   ]
  },
  {
   "cell_type": "code",
   "execution_count": 2,
   "metadata": {},
   "outputs": [
    {
     "name": "stderr",
     "output_type": "stream",
     "text": [
      "2165 [DEBUG] beets-flask - Running pipeline stages: [<generator object mutator_stage.<locals>.coro at 0x7fd3466d02e0>, <generator object mutator_stage.<locals>.coro at 0x7fd3466d03c0>] session.py:223\n",
      "2171 [WARNING] beets-flask - Reading files stages.py:116\n",
      "2186 [DEBUG] beets-flask - Creating task state for task=<beets.importer.ImportTask object at 0x7fd346711e90> states.py:190\n",
      "2188 [DEBUG] beets-flask - Creating asis candidate for task_state=SelectionState(self.id='2057c1cf-2fc7-4587-8cfa-06afe18e5c58', self.completed=False, self.toppath=PosixPath('/mnt/Repositories/beets-flask/local/music/inbox/Rush'), self.current_candidate_id=None), items=[Item(id=None, path=b'/mnt/Repositories/beets-flask/local/music/inbox/Rush/01 Basstripper - Rush - Typhoon - Rush.flac', album_id=None, title='Rush', artist='Basstripper', artists=[], artists_ids=[], artist_sort='', artists_sort=[], artist_credit='', artists_credit=[], remixer='', album='Rush / Typhoon', albumartist='Basstripper', albumartists=[], albumartist_sort='', albumartists_sort=[], albumartist_credit='', albumartists_credit=[], genre='', style='', discogs_albumid=0, discogs_artistid=0, discogs_labelid=0, lyricist='', composer='Basstripper', composer_sort='', work='', mb_workid='', work_disambig='', arranger='', grouping='', year=2019, month=2, day=8, track=1, tracktotal=2, disc=1, disctotal=1, lyrics='', comments='', bpm=0, comp=False, mb_trackid='0d02JO9X19OH6xgqebGATC', mb_albumid='2dwN4ymp8jSF0gROx5LjSx', mb_artistid='', mb_artistids=[], mb_albumartistid='', mb_albumartistids=[], mb_releasetrackid='', trackdisambig='', albumtype='', albumtypes=[], label='Low Down Deep Recordings', barcode='', acoustid_fingerprint='', acoustid_id='', mb_releasegroupid='', release_group_title='', asin='', isrc='GB8KE1858338', catalognum='', script='', language='', country='', albumstatus='', media='', albumdisambig='', releasegroupdisambig='', disctitle='', encoder='', rg_track_gain=None, rg_track_peak=None, rg_album_gain=None, rg_album_peak=None, r128_track_gain=None, r128_album_gain=None, original_year=0, original_month=0, original_day=0, initial_key=None, length=274.3, bitrate=893664, bitrate_mode='', encoder_info='', encoder_settings='', format='FLAC', samplerate=44100, bitdepth=16, channels=2, mtime=1730286582, added=0.0), Item(id=None, path=b'/mnt/Repositories/beets-flask/local/music/inbox/Rush/02 Basstripper - Rush - Typhoon - Typhoon.flac', album_id=None, title='Typhoon', artist='Basstripper', artists=[], artists_ids=[], artist_sort='', artists_sort=[], artist_credit='', artists_credit=[], remixer='', album='Rush / Typhoon', albumartist='Basstripper', albumartists=[], albumartist_sort='', albumartists_sort=[], albumartist_credit='', albumartists_credit=[], genre='', style='', discogs_albumid=0, discogs_artistid=0, discogs_labelid=0, lyricist='', composer='Basstripper', composer_sort='', work='', mb_workid='', work_disambig='', arranger='', grouping='', year=2019, month=2, day=8, track=2, tracktotal=2, disc=1, disctotal=1, lyrics='', comments='', bpm=0, comp=False, mb_trackid='3E2ok61aTqjC6lClLvXZM1', mb_albumid='2dwN4ymp8jSF0gROx5LjSx', mb_artistid='', mb_artistids=[], mb_albumartistid='', mb_albumartistids=[], mb_releasetrackid='', trackdisambig='', albumtype='', albumtypes=[], label='Low Down Deep Recordings', barcode='', acoustid_fingerprint='', acoustid_id='', mb_releasegroupid='', release_group_title='', asin='', isrc='GB8KE1858339', catalognum='', script='', language='', country='', albumstatus='', media='', albumdisambig='', releasegroupdisambig='', disctitle='', encoder='', rg_track_gain=None, rg_track_peak=None, rg_album_gain=None, rg_album_peak=None, r128_track_gain=None, r128_album_gain=None, original_year=0, original_month=0, original_day=0, initial_key=None, length=274.3, bitrate=1032583, bitrate_mode='', encoder_info='', encoder_settings='', format='FLAC', samplerate=44100, bitdepth=16, channels=2, mtime=1730286583, added=0.0)] states.py:374\n",
      "2191 [WARNING] beets-flask - Reading files from /mnt/Repositories/beets-flask/local/music/inbox/Rush stages.py:135\n",
      "2191 [DEBUG] beets-flask - Setting progress for progress=<Progress.READING_FILES: 1> self=SelectionState(self.id='2057c1cf-2fc7-4587-8cfa-06afe18e5c58', self.completed=False, self.toppath=PosixPath('/mnt/Repositories/beets-flask/local/music/inbox/Rush'), self.current_candidate_id=None), states.py:296\n",
      "2192 [DEBUG] beets-flask - Task: <beets.importer.ImportTask object at 0x7fd346711e90> pipeline.py:147\n",
      "2192 [DEBUG] beets-flask - Setting progress for progress=<Progress.LOOKING_UP_CANDIDATES: 3> self=SelectionState(self.id='2057c1cf-2fc7-4587-8cfa-06afe18e5c58', self.completed=False, self.toppath=PosixPath('/mnt/Repositories/beets-flask/local/music/inbox/Rush'), self.current_candidate_id=None), states.py:296\n",
      "2193 [DEBUG] beets-flask - Looking up: /mnt/Repositories/beets-flask/local/music/inbox/Rush stages.py:196\n",
      "7571 [DEBUG] beets-flask - Setting progress for progress=<Progress.IDENTIFYING_DUPLICATES: 4> self=SelectionState(self.id='2057c1cf-2fc7-4587-8cfa-06afe18e5c58', self.completed=False, self.toppath=PosixPath('/mnt/Repositories/beets-flask/local/music/inbox/Rush'), self.current_candidate_id=None), states.py:296\n",
      "7571 [DEBUG] beets-flask - Identifying duplicates for <beets.importer.ImportTask object at 0x7fd346711e90> session.py:124\n",
      "7572 [DEBUG] beets-flask - Found 0 duplicates for cs.id='asis' session.py:133\n",
      "7573 [DEBUG] beets-flask - Identifying duplicates completed for <beets.importer.ImportTask object at 0x7fd346711e90> session.py:137\n",
      "7573 [WARNING] beets-flask - Skipping /mnt/Repositories/beets-flask/local/music/inbox/Rush stages.py:131\n",
      "7573 [DEBUG] beets-flask - Pipeline completed session.py:232\n"
     ]
    }
   ],
   "source": [
    "# Run the import\n",
    "new_state = await session.run_async()\n",
    "db_session = Session.from_session_state(new_state)"
   ]
  },
  {
   "cell_type": "code",
   "execution_count": 3,
   "metadata": {},
   "outputs": [
    {
     "data": {
      "text/plain": [
       "ImportState(self.progress=ProgressState(progress=<Progress.IDENTIFYING_DUPLICATES: 4>, message=None, plugin_name=None), self.id='21011169-19fb-4a82-88b2-7a214ae52df9', self.completed=False)"
      ]
     },
     "execution_count": 3,
     "metadata": {},
     "output_type": "execute_result"
    }
   ],
   "source": [
    "new_state"
   ]
  },
  {
   "cell_type": "code",
   "execution_count": null,
   "metadata": {},
   "outputs": [],
   "source": []
  }
 ],
 "metadata": {
  "kernelspec": {
   "display_name": "beets-flask",
   "language": "python",
   "name": "python3"
  },
  "language_info": {
   "codemirror_mode": {
    "name": "ipython",
    "version": 3
   },
   "file_extension": ".py",
   "mimetype": "text/x-python",
   "name": "python",
   "nbconvert_exporter": "python",
   "pygments_lexer": "ipython3",
   "version": "3.11.11"
  }
 },
 "nbformat": 4,
 "nbformat_minor": 2
}

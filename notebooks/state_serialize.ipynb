{
 "cells": [
  {
   "cell_type": "code",
   "execution_count": 1,
   "metadata": {},
   "outputs": [
    {
     "name": "stderr",
     "output_type": "stream",
     "text": [
      "1531 [INFO] beets-flask - Logging initialized logger.py:25\n",
      "1805 [DEBUG] beets-flask - Reading beets config from default location beets_config.py:72\n",
      "1828 [DEBUG] beets-flask - Reading IB config defaults from /mnt/Repositories/beets-flask/backend/beets_flask/config/config_bf_default.yaml beets_config.py:81\n",
      "1831 [DEBUG] beets-flask - Reading beets-flask config from /home/sebastian/.config/beets-flask/config.yaml beets_config.py:124\n",
      "1844 [DEBUG] beets-flask - Reading beets config from default location beets_config.py:72\n",
      "1862 [DEBUG] beets-flask - Reading IB config defaults from /mnt/Repositories/beets-flask/backend/beets_flask/config/config_bf_default.yaml beets_config.py:81\n",
      "1864 [DEBUG] beets-flask - Reading beets-flask config from /home/sebastian/.config/beets-flask/config.yaml beets_config.py:124\n"
     ]
    }
   ],
   "source": [
    "import logging\n",
    "import os\n",
    "from pathlib import Path\n",
    "from beets_flask.importer.session import PreviewSessionNew, SessionState\n",
    "from beets_flask.database.models.state import Session\n",
    "\n",
    "# Get initial preview session\n",
    "cwd = os.getcwd()\n",
    "import_path = \"../local/music/inbox/Rush\"\n",
    "path = (Path(cwd) / import_path).resolve()\n",
    "session = PreviewSessionNew(SessionState(path))"
   ]
  },
  {
   "cell_type": "code",
   "execution_count": 2,
   "metadata": {},
   "outputs": [
    {
     "data": {
      "text/plain": [
       "[]"
      ]
     },
     "execution_count": 2,
     "metadata": {},
     "output_type": "execute_result"
    }
   ],
   "source": [
    "session.state.tasks"
   ]
  },
  {
   "cell_type": "code",
   "execution_count": 3,
   "metadata": {},
   "outputs": [
    {
     "name": "stderr",
     "output_type": "stream",
     "text": [
      "2966 [DEBUG] beets-flask - Running pipeline stages: [<generator object mutator_stage.<locals>.coro at 0x7f90ef9443c0>, <generator object mutator_stage.<locals>.coro at 0x7f90ef944900>] session.py:221\n",
      "2971 [WARNING] beets-flask - Reading files stages.py:116\n",
      "2989 [WARNING] beets-flask - Reading files from /mnt/Repositories/beets-flask/local/music/inbox/Rush stages.py:130\n",
      "2989 [DEBUG] beets-flask - Setting progress for self=SelectionState(self.id='0e6680a5-8bfa-4980-86ec-d00e58727409', self.completed=False, self.toppath=PosixPath('/mnt/Repositories/beets-flask/local/music/inbox/Rush'), self.current_candidate_id=None), progress=<Progress.READING_FILES: 1> states.py:295\n",
      "2990 [DEBUG] beets-flask - Setting progress for task=<beets.importer.ImportTask object at 0x7f90ef9515d0>, progress=<Progress.LOOKING_UP_CANDIDATES: 3> session.py:181\n",
      "2991 [DEBUG] beets-flask - Setting progress for self=SelectionState(self.id='0e6680a5-8bfa-4980-86ec-d00e58727409', self.completed=False, self.toppath=PosixPath('/mnt/Repositories/beets-flask/local/music/inbox/Rush'), self.current_candidate_id=None), progress=<Progress.LOOKING_UP_CANDIDATES: 3> states.py:295\n",
      "2992 [DEBUG] beets-flask - Looking up: /mnt/Repositories/beets-flask/local/music/inbox/Rush stages.py:191\n",
      "8371 [DEBUG] beets-flask - Setting progress for task=<beets.importer.ImportTask object at 0x7f90ef9515d0>, progress=<Progress.IDENTIFYING_DUPLICATES: 4> session.py:181\n",
      "8371 [DEBUG] beets-flask - Setting progress for self=SelectionState(self.id='0e6680a5-8bfa-4980-86ec-d00e58727409', self.completed=False, self.toppath=PosixPath('/mnt/Repositories/beets-flask/local/music/inbox/Rush'), self.current_candidate_id=None), progress=<Progress.IDENTIFYING_DUPLICATES: 4> states.py:295\n"
     ]
    },
    {
     "ename": "AssertionError",
     "evalue": "",
     "output_type": "error",
     "traceback": [
      "\u001b[0;31m---------------------------------------------------------------------------\u001b[0m",
      "\u001b[0;31mAssertionError\u001b[0m                            Traceback (most recent call last)",
      "Cell \u001b[0;32mIn[3], line 2\u001b[0m\n\u001b[1;32m      1\u001b[0m \u001b[38;5;66;03m# Run the import\u001b[39;00m\n\u001b[0;32m----> 2\u001b[0m new_state \u001b[38;5;241m=\u001b[39m \u001b[38;5;28;01mawait\u001b[39;00m session\u001b[38;5;241m.\u001b[39mrun_async()\n\u001b[1;32m      3\u001b[0m db_session \u001b[38;5;241m=\u001b[39m Session\u001b[38;5;241m.\u001b[39mfrom_session_state(new_state)\n",
      "File \u001b[0;32m/mnt/Repositories/beets-flask/backend/beets_flask/importer/session.py:226\u001b[0m, in \u001b[0;36mPreviewSessionNew.run_async\u001b[0;34m(self)\u001b[0m\n\u001b[1;32m    224\u001b[0m \u001b[38;5;28;01mtry\u001b[39;00m:\n\u001b[1;32m    225\u001b[0m     \u001b[38;5;28;01massert\u001b[39;00m \u001b[38;5;28mself\u001b[39m\u001b[38;5;241m.\u001b[39mpipeline \u001b[38;5;129;01mis\u001b[39;00m \u001b[38;5;129;01mnot\u001b[39;00m \u001b[38;5;28;01mNone\u001b[39;00m\n\u001b[0;32m--> 226\u001b[0m     \u001b[38;5;28;01mawait\u001b[39;00m \u001b[38;5;28mself\u001b[39m\u001b[38;5;241m.\u001b[39mpipeline\u001b[38;5;241m.\u001b[39mrun_async()\n\u001b[1;32m    227\u001b[0m \u001b[38;5;28;01mexcept\u001b[39;00m importer\u001b[38;5;241m.\u001b[39mImportAbortError:\n\u001b[1;32m    228\u001b[0m     \u001b[38;5;28mself\u001b[39m\u001b[38;5;241m.\u001b[39mlogger\u001b[38;5;241m.\u001b[39mdebug(\u001b[38;5;124mf\u001b[39m\u001b[38;5;124m\"\u001b[39m\u001b[38;5;124mInteractive import session aborted by user\u001b[39m\u001b[38;5;124m\"\u001b[39m)\n",
      "File \u001b[0;32m/mnt/Repositories/beets-flask/backend/beets_flask/importer/pipeline.py:166\u001b[0m, in \u001b[0;36mAsyncPipeline.run_async\u001b[0;34m(self)\u001b[0m\n\u001b[1;32m    161\u001b[0m \u001b[38;5;28;01masync\u001b[39;00m \u001b[38;5;28;01mdef\u001b[39;00m\u001b[38;5;250m \u001b[39m\u001b[38;5;21mrun_async\u001b[39m(\u001b[38;5;28mself\u001b[39m) \u001b[38;5;241m-\u001b[39m\u001b[38;5;241m>\u001b[39m \u001b[38;5;28;01mNone\u001b[39;00m:\n\u001b[1;32m    162\u001b[0m \u001b[38;5;250m    \u001b[39m\u001b[38;5;124;03m\"\"\"Run the pipeline asynchronously.\u001b[39;00m\n\u001b[1;32m    163\u001b[0m \n\u001b[1;32m    164\u001b[0m \u001b[38;5;124;03m    This just resolves the generator.\u001b[39;00m\n\u001b[1;32m    165\u001b[0m \u001b[38;5;124;03m    \"\"\"\u001b[39;00m\n\u001b[0;32m--> 166\u001b[0m     \u001b[38;5;28;01masync\u001b[39;00m \u001b[38;5;28;01mfor\u001b[39;00m _ \u001b[38;5;129;01min\u001b[39;00m \u001b[38;5;28mself\u001b[39m\u001b[38;5;241m.\u001b[39mpull_async():\n\u001b[1;32m    167\u001b[0m         \u001b[38;5;66;03m# resolves the generator, and awaits each element after the previous\u001b[39;00m\n\u001b[1;32m    168\u001b[0m         \u001b[38;5;28;01mpass\u001b[39;00m\n",
      "File \u001b[0;32m/mnt/Repositories/beets-flask/backend/beets_flask/importer/pipeline.py:146\u001b[0m, in \u001b[0;36mAsyncPipeline.pull_async\u001b[0;34m(self)\u001b[0m\n\u001b[1;32m    143\u001b[0m \u001b[38;5;28;01mfor\u001b[39;00m stage \u001b[38;5;129;01min\u001b[39;00m \u001b[38;5;28mself\u001b[39m\u001b[38;5;241m.\u001b[39mstages:\n\u001b[1;32m    144\u001b[0m     \u001b[38;5;28;01mawait\u001b[39;00m _next_resolve_async(stage)\n\u001b[0;32m--> 146\u001b[0m \u001b[38;5;28;01masync\u001b[39;00m \u001b[38;5;28;01mfor\u001b[39;00m task \u001b[38;5;129;01min\u001b[39;00m \u001b[38;5;28mself\u001b[39m\u001b[38;5;241m.\u001b[39mstart_tasks:\n\u001b[1;32m    147\u001b[0m     msgs: \u001b[38;5;28mlist\u001b[39m[Task] \u001b[38;5;241m=\u001b[39m _allmsgs(task)  \u001b[38;5;66;03m# returns a list of tasks\u001b[39;00m\n\u001b[1;32m    149\u001b[0m     \u001b[38;5;28;01mfor\u001b[39;00m stage \u001b[38;5;129;01min\u001b[39;00m \u001b[38;5;28mself\u001b[39m\u001b[38;5;241m.\u001b[39mstages:\n",
      "File \u001b[0;32m/mnt/Repositories/beets-flask/backend/beets_flask/importer/pipeline.py:190\u001b[0m, in \u001b[0;36m_async_iterable_from_iterable\u001b[0;34m(iterable)\u001b[0m\n\u001b[1;32m    189\u001b[0m \u001b[38;5;28;01masync\u001b[39;00m \u001b[38;5;28;01mdef\u001b[39;00m\u001b[38;5;250m \u001b[39m\u001b[38;5;21m_async_iterable_from_iterable\u001b[39m(iterable: Iterable[T]) \u001b[38;5;241m-\u001b[39m\u001b[38;5;241m>\u001b[39m AsyncIterable[T]:\n\u001b[0;32m--> 190\u001b[0m \u001b[43m    \u001b[49m\u001b[38;5;28;43;01mfor\u001b[39;49;00m\u001b[43m \u001b[49m\u001b[43mitem\u001b[49m\u001b[43m \u001b[49m\u001b[38;5;129;43;01min\u001b[39;49;00m\u001b[43m \u001b[49m\u001b[43miterable\u001b[49m\u001b[43m:\u001b[49m\n\u001b[1;32m    191\u001b[0m \u001b[43m        \u001b[49m\u001b[38;5;28;43;01myield\u001b[39;49;00m\u001b[43m \u001b[49m\u001b[43mitem\u001b[49m\n",
      "File \u001b[0;32m/mnt/Repositories/beets-flask/backend/beets_flask/importer/stages.py:129\u001b[0m, in \u001b[0;36mread_tasks\u001b[0;34m(session)\u001b[0m\n\u001b[1;32m    127\u001b[0m task_factory \u001b[38;5;241m=\u001b[39m ImportTaskFactory(toppath, session)\n\u001b[1;32m    128\u001b[0m \u001b[38;5;28;01mfor\u001b[39;00m task \u001b[38;5;129;01min\u001b[39;00m task_factory\u001b[38;5;241m.\u001b[39mtasks():\n\u001b[0;32m--> 129\u001b[0m     task_state \u001b[38;5;241m=\u001b[39m \u001b[43msession\u001b[49m\u001b[38;5;241;43m.\u001b[39;49m\u001b[43mstate\u001b[49m\u001b[38;5;241;43m.\u001b[39;49m\u001b[43mupsert_task\u001b[49m\u001b[43m(\u001b[49m\u001b[43mtask\u001b[49m\u001b[43m)\u001b[49m\n\u001b[1;32m    130\u001b[0m     log\u001b[38;5;241m.\u001b[39mwarning(\u001b[38;5;124mf\u001b[39m\u001b[38;5;124m\"\u001b[39m\u001b[38;5;124mReading files from \u001b[39m\u001b[38;5;132;01m{\u001b[39;00mdisplayable_path(toppath)\u001b[38;5;132;01m}\u001b[39;00m\u001b[38;5;124m\"\u001b[39m)\n\u001b[1;32m    131\u001b[0m     task_state\u001b[38;5;241m.\u001b[39mset_progress(Progress\u001b[38;5;241m.\u001b[39mREADING_FILES)\n",
      "File \u001b[0;32m/mnt/Repositories/beets-flask/backend/beets_flask/importer/states.py:128\u001b[0m, in \u001b[0;36mSessionState.upsert_task\u001b[0;34m(self, task)\u001b[0m\n\u001b[1;32m    125\u001b[0m state \u001b[38;5;241m=\u001b[39m \u001b[38;5;28mself\u001b[39m\u001b[38;5;241m.\u001b[39mget_task_state_for_task(task)\n\u001b[1;32m    127\u001b[0m \u001b[38;5;28;01mif\u001b[39;00m state \u001b[38;5;129;01mis\u001b[39;00m \u001b[38;5;28;01mNone\u001b[39;00m:\n\u001b[0;32m--> 128\u001b[0m     state \u001b[38;5;241m=\u001b[39m \u001b[43mTaskState\u001b[49m\u001b[43m(\u001b[49m\u001b[43mtask\u001b[49m\u001b[43m,\u001b[49m\u001b[43m \u001b[49m\u001b[38;5;28;43mself\u001b[39;49m\u001b[43m)\u001b[49m\n\u001b[1;32m    129\u001b[0m     \u001b[38;5;28mself\u001b[39m\u001b[38;5;241m.\u001b[39m_task_states\u001b[38;5;241m.\u001b[39mappend(state)\n\u001b[1;32m    131\u001b[0m \u001b[38;5;28;01mreturn\u001b[39;00m state\n",
      "File \u001b[0;32m/mnt/Repositories/beets-flask/backend/beets_flask/importer/states.py:190\u001b[0m, in \u001b[0;36mTaskState.__init__\u001b[0;34m(self, task, session_state)\u001b[0m\n\u001b[1;32m    188\u001b[0m \u001b[38;5;28mself\u001b[39m\u001b[38;5;241m.\u001b[39mtask \u001b[38;5;241m=\u001b[39m task\n\u001b[1;32m    189\u001b[0m \u001b[38;5;28mself\u001b[39m\u001b[38;5;241m.\u001b[39mcandidate_states \u001b[38;5;241m=\u001b[39m [CandidateState(c, \u001b[38;5;28mself\u001b[39m) \u001b[38;5;28;01mfor\u001b[39;00m c \u001b[38;5;129;01min\u001b[39;00m \u001b[38;5;28mself\u001b[39m\u001b[38;5;241m.\u001b[39mtask\u001b[38;5;241m.\u001b[39mcandidates]\n\u001b[0;32m--> 190\u001b[0m \u001b[38;5;28mself\u001b[39m\u001b[38;5;241m.\u001b[39mcandidate_states\u001b[38;5;241m.\u001b[39mappend(\u001b[43mCandidateState\u001b[49m\u001b[38;5;241;43m.\u001b[39;49m\u001b[43masis_candidate\u001b[49m\u001b[43m(\u001b[49m\u001b[38;5;28;43mself\u001b[39;49m\u001b[43m)\u001b[49m)\n\u001b[1;32m    192\u001b[0m \u001b[38;5;28mself\u001b[39m\u001b[38;5;241m.\u001b[39msession_state \u001b[38;5;241m=\u001b[39m session_state \u001b[38;5;129;01mor\u001b[39;00m SessionState(task\u001b[38;5;241m.\u001b[39mtoppath)\n",
      "File \u001b[0;32m/mnt/Repositories/beets-flask/backend/beets_flask/importer/states.py:373\u001b[0m, in \u001b[0;36mCandidateState.asis_candidate\u001b[0;34m(cls, task_state)\u001b[0m\n\u001b[1;32m    365\u001b[0m \u001b[38;5;250m\u001b[39m\u001b[38;5;124;03m\"\"\"\u001b[39;00m\n\u001b[1;32m    366\u001b[0m \u001b[38;5;124;03mAlternate constructor for an asis import option.\u001b[39;00m\n\u001b[1;32m    367\u001b[0m \n\u001b[0;32m   (...)\u001b[0m\n\u001b[1;32m    370\u001b[0m \u001b[38;5;124;03mThis is pretty much duct-tape.\u001b[39;00m\n\u001b[1;32m    371\u001b[0m \u001b[38;5;124;03m\"\"\"\u001b[39;00m\n\u001b[1;32m    372\u001b[0m items \u001b[38;5;241m=\u001b[39m task_state\u001b[38;5;241m.\u001b[39mtask\u001b[38;5;241m.\u001b[39mitems\n\u001b[0;32m--> 373\u001b[0m info, _ \u001b[38;5;241m=\u001b[39m \u001b[43mautotag\u001b[49m\u001b[38;5;241;43m.\u001b[39;49m\u001b[43mcurrent_metadata\u001b[49m\u001b[43m(\u001b[49m\u001b[43mitems\u001b[49m\u001b[43m)\u001b[49m\n\u001b[1;32m    374\u001b[0m info[\u001b[38;5;124m\"\u001b[39m\u001b[38;5;124mdata_source\u001b[39m\u001b[38;5;124m\"\u001b[39m] \u001b[38;5;241m=\u001b[39m \u001b[38;5;124m\"\u001b[39m\u001b[38;5;124masis\u001b[39m\u001b[38;5;124m\"\u001b[39m\n\u001b[1;32m    376\u001b[0m \u001b[38;5;28;01mdef\u001b[39;00m\u001b[38;5;250m \u001b[39m\u001b[38;5;21m_generate_kwargs\u001b[39m(item):\n",
      "File \u001b[0;32m/mnt/Data/mambaforge/envs/beets-flask/lib/python3.11/site-packages/beets/autotag/match.py:97\u001b[0m, in \u001b[0;36mcurrent_metadata\u001b[0;34m(items)\u001b[0m\n\u001b[1;32m     89\u001b[0m \u001b[38;5;28;01mdef\u001b[39;00m\u001b[38;5;250m \u001b[39m\u001b[38;5;21mcurrent_metadata\u001b[39m(\n\u001b[1;32m     90\u001b[0m     items: Iterable[Item],\n\u001b[1;32m     91\u001b[0m ) \u001b[38;5;241m-\u001b[39m\u001b[38;5;241m>\u001b[39m Tuple[Dict[\u001b[38;5;28mstr\u001b[39m, Any], Dict[\u001b[38;5;28mstr\u001b[39m, Any]]:\n\u001b[1;32m     92\u001b[0m \u001b[38;5;250m    \u001b[39m\u001b[38;5;124;03m\"\"\"Extract the likely current metadata for an album given a list of its\u001b[39;00m\n\u001b[1;32m     93\u001b[0m \u001b[38;5;124;03m    items. Return two dictionaries:\u001b[39;00m\n\u001b[1;32m     94\u001b[0m \u001b[38;5;124;03m     - The most common value for each field.\u001b[39;00m\n\u001b[1;32m     95\u001b[0m \u001b[38;5;124;03m     - Whether each field's value was unanimous (values are booleans).\u001b[39;00m\n\u001b[1;32m     96\u001b[0m \u001b[38;5;124;03m    \"\"\"\u001b[39;00m\n\u001b[0;32m---> 97\u001b[0m     \u001b[38;5;28;01massert\u001b[39;00m items  \u001b[38;5;66;03m# Must be nonempty.\u001b[39;00m\n\u001b[1;32m     99\u001b[0m     likelies \u001b[38;5;241m=\u001b[39m {}\n\u001b[1;32m    100\u001b[0m     consensus \u001b[38;5;241m=\u001b[39m {}\n",
      "\u001b[0;31mAssertionError\u001b[0m: "
     ]
    }
   ],
   "source": [
    "# Run the import\n",
    "new_state = await session.run_async()\n",
    "db_session = Session.from_session_state(new_state)"
   ]
  },
  {
   "cell_type": "code",
   "execution_count": 16,
   "metadata": {},
   "outputs": [
    {
     "data": {
      "text/plain": [
       "ImportState(self.status=ImportStatusMessage(message='initializing', plugin_stage=None, plugin_name=None), self.id='a086efba-9ea6-4824-8911-33ebef08a7d8', self.completed=False)"
      ]
     },
     "execution_count": 16,
     "metadata": {},
     "output_type": "execute_result"
    }
   ],
   "source": [
    "# Some time later deserialize the session\n",
    "state = db_session.to_session_state()\n",
    "state"
   ]
  },
  {
   "cell_type": "code",
   "execution_count": 4,
   "metadata": {},
   "outputs": [
    {
     "data": {
      "text/plain": [
       "'preview completed'"
      ]
     },
     "execution_count": 4,
     "metadata": {},
     "output_type": "execute_result"
    }
   ],
   "source": [
    "db_session.progress"
   ]
  }
 ],
 "metadata": {
  "kernelspec": {
   "display_name": "beets-flask",
   "language": "python",
   "name": "python3"
  },
  "language_info": {
   "codemirror_mode": {
    "name": "ipython",
    "version": 3
   },
   "file_extension": ".py",
   "mimetype": "text/x-python",
   "name": "python",
   "nbconvert_exporter": "python",
   "pygments_lexer": "ipython3",
   "version": "3.11.11"
  }
 },
 "nbformat": 4,
 "nbformat_minor": 2
}

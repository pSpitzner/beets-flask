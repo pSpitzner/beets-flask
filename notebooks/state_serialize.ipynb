{
 "cells": [
  {
   "cell_type": "code",
   "execution_count": 1,
   "metadata": {},
   "outputs": [
    {
     "name": "stderr",
     "output_type": "stream",
     "text": [
      "1796 [INFO] beets-flask - Logging initialized logger.py:25\n",
      "2035 [DEBUG] beets-flask - Reading beets config from default location beets_config.py:72\n",
      "2050 [DEBUG] beets-flask - Reading IB config defaults from /mnt/Repositories/beets-flask/backend/beets_flask/config/config_bf_default.yaml beets_config.py:81\n",
      "2051 [DEBUG] beets-flask - Reading beets-flask config from /home/sebastian/.config/beets-flask/config.yaml beets_config.py:124\n",
      "2062 [DEBUG] beets-flask - Reading beets config from default location beets_config.py:72\n",
      "2077 [DEBUG] beets-flask - Reading IB config defaults from /mnt/Repositories/beets-flask/backend/beets_flask/config/config_bf_default.yaml beets_config.py:81\n",
      "2078 [DEBUG] beets-flask - Reading beets-flask config from /home/sebastian/.config/beets-flask/config.yaml beets_config.py:124\n"
     ]
    }
   ],
   "source": [
    "import os\n",
    "from pathlib import Path\n",
    "from beets_flask.importer.session import PreviewSessionNew, SessionState\n",
    "from beets_flask.database.models.state import Session\n",
    "\n",
    "# Get initial preview session\n",
    "cwd = os.getcwd()\n",
    "import_path = \"../local/music/inbox/Rush\"\n",
    "path = (Path(cwd) / import_path).resolve()\n",
    "session = PreviewSessionNew(SessionState(path))"
   ]
  },
  {
   "cell_type": "code",
   "execution_count": 2,
   "metadata": {},
   "outputs": [
    {
     "name": "stderr",
     "output_type": "stream",
     "text": [
      "2415 [DEBUG] beets-flask - Running pipeline stages: [<generator object mutator_stage.<locals>.coro at 0x7fddaa2344a0>, <generator object mutator_stage.<locals>.coro at 0x7fddaa234580>] session.py:221\n",
      "2421 [WARNING] beets-flask - Reading files stages.py:116\n",
      "2439 [WARNING] beets-flask - Reading files from /mnt/Repositories/beets-flask/local/music/inbox/Rush stages.py:135\n",
      "2439 [DEBUG] beets-flask - Setting progress for progress=<Progress.READING_FILES: 1> self=SelectionState(self.id='a717ec16-6b4d-4a4b-aa90-732099718019', self.completed=False, self.toppath=PosixPath('/mnt/Repositories/beets-flask/local/music/inbox/Rush'), self.current_candidate_id=None), states.py:296\n",
      "2440 [DEBUG] beets-flask - Setting progress for progress=<Progress.LOOKING_UP_CANDIDATES: 3> self=SelectionState(self.id='a717ec16-6b4d-4a4b-aa90-732099718019', self.completed=False, self.toppath=PosixPath('/mnt/Repositories/beets-flask/local/music/inbox/Rush'), self.current_candidate_id=None), states.py:296\n",
      "2441 [DEBUG] beets-flask - Looking up: /mnt/Repositories/beets-flask/local/music/inbox/Rush stages.py:196\n",
      "7920 [DEBUG] beets-flask - Setting progress for progress=<Progress.IDENTIFYING_DUPLICATES: 4> self=SelectionState(self.id='a717ec16-6b4d-4a4b-aa90-732099718019', self.completed=False, self.toppath=PosixPath('/mnt/Repositories/beets-flask/local/music/inbox/Rush'), self.current_candidate_id=None), states.py:296\n",
      "7921 [WARNING] beets-flask - Skipping /mnt/Repositories/beets-flask/local/music/inbox/Rush stages.py:131\n",
      "7921 [DEBUG] beets-flask - Pipeline completed session.py:230\n"
     ]
    }
   ],
   "source": [
    "# Run the import\n",
    "new_state = await session.run_async()\n",
    "db_session = Session.from_session_state(new_state)"
   ]
  },
  {
   "cell_type": "markdown",
   "metadata": {},
   "source": [
    "An eternity later..."
   ]
  },
  {
   "cell_type": "code",
   "execution_count": 3,
   "metadata": {},
   "outputs": [],
   "source": [
    "state = db_session.to_session_state()"
   ]
  },
  {
   "cell_type": "code",
   "execution_count": 4,
   "metadata": {},
   "outputs": [
    {
     "data": {
      "text/plain": [
       "ProgressState(progress=<Progress.IDENTIFYING_DUPLICATES: 4>, message=None, plugin_name=None)"
      ]
     },
     "execution_count": 4,
     "metadata": {},
     "output_type": "execute_result"
    }
   ],
   "source": [
    "state.task_states[0].progress"
   ]
  },
  {
   "cell_type": "code",
   "execution_count": null,
   "metadata": {},
   "outputs": [],
   "source": []
  }
 ],
 "metadata": {
  "kernelspec": {
   "display_name": "beets-flask",
   "language": "python",
   "name": "python3"
  },
  "language_info": {
   "codemirror_mode": {
    "name": "ipython",
    "version": 3
   },
   "file_extension": ".py",
   "mimetype": "text/x-python",
   "name": "python",
   "nbconvert_exporter": "python",
   "pygments_lexer": "ipython3",
   "version": "3.11.11"
  }
 },
 "nbformat": 4,
 "nbformat_minor": 2
}

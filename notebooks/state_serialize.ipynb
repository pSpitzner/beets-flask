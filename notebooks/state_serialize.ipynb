{
 "cells": [
  {
   "cell_type": "code",
   "execution_count": null,
   "metadata": {},
   "outputs": [],
   "source": [
    "import logging\n",
    "import os\n",
    "from pathlib import Path\n",
    "from beets_flask.importer.session import PreviewSessionNew, SessionState\n",
    "from beets_flask.database.models.state import Session\n",
    "\n",
    "# Get initial preview session\n",
    "cwd = os.getcwd()\n",
    "import_path = \"../local/music/inbox/Rush\"\n",
    "path = (Path(cwd) / import_path).resolve()\n",
    "session = PreviewSessionNew(SessionState(path))"
   ]
  },
  {
   "cell_type": "code",
   "execution_count": 15,
   "metadata": {},
   "outputs": [
    {
     "name": "stderr",
     "output_type": "stream",
     "text": [
      "239751 [DEBUG] beets-flask - Running pipeline stages: [<generator object mutator_stage.<locals>.coro at 0x7fa6c1ef99a0>, <generator object mutator_stage.<locals>.coro at 0x7fa6c1ef9d20>, <generator object mutator_stage.<locals>.coro at 0x7fa6c1ef98c0>, <generator object mutator_stage.<locals>.coro at 0x7fa6c1ef9700>] session.py:208\n",
      "245143 [DEBUG] beets-flask - Found duplicates for cs.id='ce49cc09-2c06-424b-b604-0d41df7ba0d3': [Album(id=1, artpath=b'/mnt/Daten/Musik/test/Basstripper/In the City - Wasted/cover.jpg', added=1714419779.6089551, albumartist='Basstripper', albumartist_sort='Basstripper', albumartist_credit='Basstripper', albumartists=[], albumartists_sort=[], albumartists_credit=[], album='In the City / Wasted', genre='', style='', discogs_albumid=0, discogs_artistid=0, discogs_labelid=0, year=2023, month=7, day=14, disctotal=1, comp=0, mb_albumid='3a76ece6-89ec-43c6-920f-ff955d2e4f9e', mb_albumartistid='82687fdf-84d6-49ac-bff2-de88cb42e5a2', albumtype='single', albumtypes=['single'], label='DnB Allstars Records', barcode='', mb_releasegroupid='6e46e8cc-2546-45d1-a24c-23982cf36980', release_group_title='', asin='', catalognum='', script='Latn', language='', country='', albumstatus='Official', albumdisambig='', releasegroupdisambig='', rg_album_gain=None, rg_album_peak=None, r128_album_gain=None, original_year=2023, original_month=7, original_day=14)] session.py:122\n",
      "245145 [DEBUG] beets-flask - Pipeline completed session.py:217\n"
     ]
    }
   ],
   "source": [
    "# Run the import\n",
    "new_state = await session.run_async()\n",
    "db_session = Session.from_session_state(new_state)"
   ]
  },
  {
   "cell_type": "code",
   "execution_count": 16,
   "metadata": {},
   "outputs": [
    {
     "data": {
      "text/plain": [
       "ImportState(self.status=ImportStatusMessage(message='initializing', plugin_stage=None, plugin_name=None), self.id='a086efba-9ea6-4824-8911-33ebef08a7d8', self.completed=False)"
      ]
     },
     "execution_count": 16,
     "metadata": {},
     "output_type": "execute_result"
    }
   ],
   "source": [
    "# Some time later deserialize the session\n",
    "state = db_session.to_session_state()\n",
    "state"
   ]
  },
  {
   "cell_type": "code",
   "execution_count": null,
   "metadata": {},
   "outputs": [],
   "source": [
    "# Continue session\n",
    "# TODO"
   ]
  }
 ],
 "metadata": {
  "kernelspec": {
   "display_name": "beets-flask",
   "language": "python",
   "name": "python3"
  },
  "language_info": {
   "codemirror_mode": {
    "name": "ipython",
    "version": 3
   },
   "file_extension": ".py",
   "mimetype": "text/x-python",
   "name": "python",
   "nbconvert_exporter": "python",
   "pygments_lexer": "ipython3",
   "version": "3.11.11"
  }
 },
 "nbformat": 4,
 "nbformat_minor": 2
}
